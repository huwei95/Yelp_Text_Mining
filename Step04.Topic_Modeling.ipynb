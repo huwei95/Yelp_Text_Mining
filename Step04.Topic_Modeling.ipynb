{
 "cells": [
  {
   "cell_type": "code",
   "execution_count": 1,
   "metadata": {
    "collapsed": true
   },
   "outputs": [],
   "source": [
    "import pandas as pd\n",
    "import numpy as np\n",
    "import re\n",
    "import os\n",
    "import matplotlib as plt\n",
    "import time\n",
    "%matplotlib inline\n",
    "work_dir='D:\\\\002.Learning\\\\Yelp_Data_Challenge\\\\Yelp_Dataset_Round7\\\\'"
   ]
  },
  {
   "cell_type": "code",
   "execution_count": 3,
   "metadata": {
    "collapsed": false
   },
   "outputs": [
    {
     "name": "stderr",
     "output_type": "stream",
     "text": [
      "C:\\Anaconda2\\lib\\site-packages\\IPython\\core\\interactiveshell.py:2723: DtypeWarning: Columns (5,6) have mixed types. Specify dtype option on import or set low_memory=False.\n",
      "  interactivity=interactivity, compiler=compiler, result=result)\n"
     ]
    }
   ],
   "source": [
    "Yelp_us_food_review_preprocessed=pd.read_csv('Yelp_us_food_review_preprocessed.csv')"
   ]
  },
  {
   "cell_type": "code",
   "execution_count": 4,
   "metadata": {
    "collapsed": false
   },
   "outputs": [
    {
     "data": {
      "text/plain": [
       "user_id                                         Iu6AxdBYGR4A0wspR9BYHA\n",
       "review_id                                       KPvLNJ21_4wbYNctrOwWdQ\n",
       "text                 Excellent food. Superb customer service. I mis...\n",
       "votes.cool                                                           0\n",
       "business_id                                     5UmKMjUEUNdYWqANhGckJw\n",
       "votes.funny                                                          0\n",
       "stars                                                                5\n",
       "date                                                        2014-02-13\n",
       "type                                                            review\n",
       "votes.useful                                                         0\n",
       "Preprocessed_Text    excellent food superb customer service mario m...\n",
       "Name: 1, dtype: object"
      ]
     },
     "execution_count": 4,
     "metadata": {},
     "output_type": "execute_result"
    }
   ],
   "source": [
    "Yelp_us_food_review_preprocessed.iloc[1]"
   ]
  },
  {
   "cell_type": "markdown",
   "metadata": {},
   "source": [
    "### 4.1 sample review for analysis"
   ]
  },
  {
   "cell_type": "code",
   "execution_count": 11,
   "metadata": {
    "collapsed": false
   },
   "outputs": [
    {
     "name": "stdout",
     "output_type": "stream",
     "text": [
      "5042\n"
     ]
    }
   ],
   "source": [
    "import gensim\n",
    "from gensim import corpora, models\n",
    "\n",
    "review_sample=Yelp_us_food_review_preprocessed[Yelp_us_food_review_preprocessed['business_id']=='4bEjOyTaDG24SY5TxsaUNQ']\n",
    "print len(review_sample)"
   ]
  },
  {
   "cell_type": "code",
   "execution_count": 45,
   "metadata": {
    "collapsed": false
   },
   "outputs": [],
   "source": [
    "def ida_model_gensim(data,model_name, num_topics):\n",
    "    step1_start_time=time.time()\n",
    "    #step 1 converted to texts\n",
    "    bagofwords=[[words for words in document.split(' ')] for document in data['Preprocessed_Text'] if pd.notnull(document)]\n",
    "    step1_end_time=time.time()\n",
    "    print 'Step 1: Parsed to bag of words finished:', (step1_end_time-step1_start_time)/60, ' mins\\n'\n",
    "    \n",
    "    #step 2 build library for unique words  \n",
    "    step2_start_time=time.time()\n",
    "    dictionary=corpora.Dictionary(bagofwords)\n",
    "    corpus=[dictionary.doc2bow(text) for text in bagofwords]\n",
    "    step2_end_time=time.time()\n",
    "    print 'Step 2: Dictionary of unique words built:', (step2_end_time-step2_start_time)/60, ' mins\\n'\n",
    "    #step 3 Represent the bag of words using dictionary index\n",
    "    step3_start_time=time.time()\n",
    "    ldamodel=gensim.models.ldamodel.LdaModel(corpus, num_topics=num_topics, id2word=dictionary, passes=20)\n",
    "    ldamodel.save('models/'+model_name)\n",
    "    step3_end_time=time.time()\n",
    "    print 'Step 3: Model built:', (step3_end_time-step3_start_time)/60, ' mins\\n'\n",
    "    print 'Total run time: ',(step3_end_time-step1_start_time)/60, ' mins\\n'\n",
    "    print ldamodel.print_topics(num_topics=50,num_words=10)"
   ]
  },
  {
   "cell_type": "code",
   "execution_count": 46,
   "metadata": {
    "collapsed": false
   },
   "outputs": [
    {
     "name": "stdout",
     "output_type": "stream",
     "text": [
      "Step 1: Parsed to bag of words finished: 0.000416668256124  mins\n",
      "\n",
      "Step 2: Dictionary of unique words built: 0.0104166666667  mins\n",
      "\n",
      "Step 3: Model built: 1.85906666517  mins\n",
      "\n",
      "Total run time:  1.86991666555  mins\n",
      "\n",
      "[(0, u'0.060*yelp + 0.047*http + 0.033*www + 0.031*select + 0.024*biz_photos + 0.020*4jnxuyy8wbaadmk3bpzlww + 0.017*reception + 0.016*ly + 0.014*trap + 0.010*ve'), (1, u'0.088*lobster + 0.066*roll + 0.049*sandwich + 0.038*pork + 0.014*lunch + 0.013*tradition + 0.013*salad + 0.012*visit + 0.012*place + 0.012*bonus'), (2, u'0.050*chicken + 0.020*sandwich + 0.018*brie + 0.017*restaurant + 0.016*good + 0.016*quiche + 0.015*lunch + 0.014*crepe + 0.014*great + 0.014*vega'), (3, u'0.027*salmon + 0.024*dish + 0.018*food + 0.016*service + 0.016*meal + 0.014*restaurant + 0.014*delicious + 0.012*fish + 0.012*dinner + 0.012*lemon'), (4, u'0.020*salad + 0.016*good + 0.014*cheese + 0.012*scallop + 0.011*banana + 0.011*warm + 0.011*onion + 0.011*soup + 0.010*butter + 0.009*ordered'), (5, u'0.027*top + 0.013*melt + 0.013*restaurant + 0.012*steak + 0.012*notch + 0.012*vega + 0.011*frites + 0.011*face + 0.011*mouth + 0.011*pur\\xe9e'), (6, u'0.027*french + 0.021*restaurant + 0.016*true + 0.014*fine + 0.013*fancy + 0.011*type + 0.010*tartare + 0.009*idea + 0.009*cooking + 0.009*loud'), (7, u'0.024*ordered + 0.023*good + 0.021*wasn + 0.018*didn + 0.016*order + 0.015*place + 0.015*food + 0.012*pretty + 0.011*server + 0.011*bad'), (8, u'0.103*mon + 0.102*ami + 0.092*gabi + 0.036*vega + 0.021*restaurant + 0.018*time + 0.018*la + 0.013*experience + 0.012*strip + 0.012*paris'), (9, u'0.131*steak + 0.036*frites + 0.035*fry + 0.029*love + 0.026*time + 0.026*ordered + 0.017*cooked + 0.017*medium + 0.015*delicious + 0.015*good'), (10, u'0.046*wellington + 0.023*hangover + 0.020*beef + 0.019*sunday + 0.018*city + 0.017*parfait + 0.015*burger + 0.015*case + 0.015*hand + 0.012*jose'), (11, u'0.025*good + 0.018*food + 0.015*dinner + 0.013*steak + 0.012*experience + 0.009*price + 0.008*don + 0.008*pretty + 0.007*plate + 0.007*option'), (12, u'0.056*customer + 0.026*im + 0.020*exceptional + 0.018*deliciously + 0.017*excellent + 0.016*bill + 0.014*60 + 0.013*experience + 0.013*skirt + 0.012*moules'), (13, u'0.071*skate + 0.056*de + 0.047*burger + 0.039*wing + 0.025*fish + 0.018*visit + 0.018*watched + 0.013*superb + 0.013*including + 0.013*opt'), (14, u'0.058*breakfast + 0.023*egg + 0.017*waffle + 0.015*toast + 0.014*french + 0.014*coffee + 0.014*vega + 0.014*good + 0.013*crepe + 0.012*benedict'), (15, u'0.048*anniversary + 0.040*enjoyed + 0.039*kid + 0.036*husband + 0.025*wedding + 0.022*highly + 0.021*server + 0.019*recommended + 0.018*special + 0.016*brought'), (16, u'0.032*air + 0.026*location + 0.023*nicely + 0.021*vibe + 0.018*charged + 0.018*overpriced + 0.016*tasty + 0.016*atrium + 0.014*wonderful + 0.014*diner'), (17, u'0.061*filet + 0.051*steak + 0.042*mignon + 0.027*sauce + 0.027*merlot + 0.024*butter + 0.015*wine + 0.015*ordered + 0.013*frites + 0.012*delicious'), (18, u'0.190*soup + 0.157*onion + 0.133*french + 0.021*delicious + 0.013*cheese + 0.012*ve + 0.011*bread + 0.011*martini + 0.008*flavor + 0.008*ordered'), (19, u'0.026*noisy + 0.022*vegetarian + 0.020*rated + 0.018*average + 0.018*care + 0.018*problem + 0.017*restaurant + 0.011*expected + 0.010*extremely + 0.010*ill'), (20, u'0.056*salmon + 0.033*smoked + 0.024*breakfast + 0.024*egg + 0.018*place + 0.015*fresh + 0.015*delicious + 0.014*croque + 0.014*nice + 0.014*madame'), (21, u'0.044*tower + 0.038*eiffel + 0.034*french + 0.027*nice + 0.017*people + 0.016*paris + 0.014*france + 0.013*bistro + 0.013*accent + 0.012*parisian'), (22, u'0.033*hubby + 0.028*pasta + 0.024*experience + 0.020*child + 0.019*dining + 0.016*divine + 0.015*variety + 0.015*boar + 0.012*ragu + 0.012*typical'), (23, u'0.045*place + 0.036*patio + 0.035*bellagio + 0.033*food + 0.032*fountain + 0.031*vega + 0.029*great + 0.028*people + 0.027*watch + 0.024*sit'), (24, u'0.033*bit + 0.024*outstanding + 0.022*option + 0.021*place + 0.018*squash + 0.017*super + 0.015*scallop + 0.014*town + 0.014*butternut + 0.013*feel'), (25, u'0.043*wine + 0.025*vega + 0.023*time + 0.016*great + 0.014*french + 0.014*steak + 0.012*paris + 0.012*strip + 0.010*meal + 0.010*dinner'), (26, u'0.034*salad + 0.025*ordered + 0.019*food + 0.018*friend + 0.016*friendly + 0.016*bread + 0.016*bit + 0.016*tuna + 0.013*great + 0.013*perfect'), (27, u'0.112*bar + 0.103*bloody + 0.102*mary + 0.060*brunch + 0.042*toast + 0.040*french + 0.022*blueberry + 0.018*bartender + 0.016*mimosa + 0.013*sauce'), (28, u'0.085*quality + 0.036*food + 0.027*average + 0.027*price + 0.024*decent + 0.021*crowd + 0.021*french + 0.019*high + 0.018*afternoon + 0.016*mother'), (29, u'0.168*pate + 0.069*country + 0.031*mustard + 0.014*yummy + 0.014*cornichons + 0.012*employee + 0.012*changing + 0.010*grain + 0.010*thought + 0.009*hamburger'), (30, u'0.025*walnut + 0.024*def + 0.018*citrus + 0.015*salmon + 0.013*blueberry + 0.013*ish + 0.013*paris + 0.012*oatmeal + 0.012*avocado + 0.010*rough'), (31, u'0.014*don + 0.013*blown + 0.013*incredibly + 0.012*wasn + 0.012*favor + 0.011*order + 0.009*wow + 0.009*pro + 0.009*visit + 0.009*cuisine'), (32, u'0.074*bellagio + 0.071*view + 0.066*fountain + 0.043*great + 0.042*patio + 0.035*show + 0.033*good + 0.031*food + 0.026*seating + 0.023*nice'), (33, u'0.117*great + 0.086*food + 0.069*service + 0.042*good + 0.040*place + 0.038*vega + 0.030*time + 0.026*price + 0.024*amazing + 0.017*atmosphere'), (34, u'0.035*reservation + 0.033*table + 0.032*wait + 0.027*minute + 0.025*time + 0.021*food + 0.021*seated + 0.013*service + 0.011*line + 0.011*good'), (35, u'0.017*waiter + 0.014*mixed + 0.012*prepare + 0.012*daughter + 0.011*alright + 0.011*real + 0.010*finished + 0.009*doubt + 0.009*lovely + 0.009*negative'), (36, u'0.072*egg + 0.040*hash + 0.035*beef + 0.031*benedict + 0.030*breakfast + 0.022*brown + 0.021*good + 0.019*corned + 0.019*brunch + 0.017*omelette'), (37, u'0.138*free + 0.097*gluten + 0.082*menu + 0.044*option + 0.034*gf + 0.030*bread + 0.023*restaurant + 0.020*meal + 0.013*allergy + 0.010*item'), (38, u'0.082*wife + 0.025*room + 0.020*dinner + 0.017*excellent + 0.015*guest + 0.015*dined + 0.012*evening + 0.011*son + 0.011*staff + 0.010*frittes'), (39, u'0.119*cheese + 0.052*goat + 0.048*bread + 0.039*baked + 0.025*warm + 0.022*appetizer + 0.016*brie + 0.016*salad + 0.015*garlic + 0.014*sauce'), (40, u'0.021*party + 0.019*service + 0.015*bill + 0.012*spend + 0.012*18 + 0.011*gratuity + 0.011*member + 0.009*waiter + 0.009*pay + 0.009*meal'), (41, u'0.109*escargot + 0.049*duck + 0.032*snail + 0.023*garlic + 0.022*herb + 0.022*confit + 0.019*butter + 0.015*de + 0.015*bourgogne + 0.014*flavor'), (42, u'0.181*star + 0.125*5 + 0.099*4 + 0.062*3 + 0.038*service + 0.034*give + 0.022*reason + 0.021*food + 0.019*2 + 0.009*giving'), (43, u'0.026*est + 0.022*die + 0.021*man + 0.017*und + 0.014*auf + 0.013*da + 0.013*daily + 0.013*der + 0.012*\\xe0 + 0.011*pour'), (44, u'0.049*lunch + 0.036*sandwich + 0.030*table + 0.018*day + 0.016*croque + 0.016*sun + 0.016*monsieur + 0.016*meal + 0.014*room + 0.014*patio'), (45, u'0.051*lamb + 0.025*la + 0.019*chop + 0.014*fran\\xe7ais + 0.014*marmalade + 0.012*smell + 0.011*une + 0.011*ambiance + 0.011*esp + 0.010*tout'), (46, u'0.067*steak + 0.029*good + 0.020*frites + 0.017*95 + 0.016*cut + 0.015*fry + 0.014*sauce + 0.014*pretty + 0.013*cooked + 0.012*medium'), (47, u'0.025*scallop + 0.024*good + 0.024*seafood + 0.020*crepe + 0.018*sauce + 0.018*cream + 0.018*fresh + 0.017*dessert + 0.015*shrimp + 0.015*delicious'), (48, u'0.020*restaurant + 0.014*shirt + 0.013*bar + 0.011*lunch + 0.011*high + 0.010*guy + 0.009*management + 0.009*manager + 0.009*people + 0.009*relax'), (49, u'0.019*table + 0.017*ordered + 0.017*restaurant + 0.013*seated + 0.012*reservation + 0.010*server + 0.009*steak + 0.009*food + 0.009*perfect + 0.008*night')]\n"
     ]
    }
   ],
   "source": [
    "ida_model_gensim(review_sample,'One_Resteraunt_Topic',50)"
   ]
  },
  {
   "cell_type": "code",
   "execution_count": 27,
   "metadata": {
    "collapsed": false
   },
   "outputs": [
    {
     "name": "stdout",
     "output_type": "stream",
     "text": [
      "Total 1.28536666632 mins\n",
      "[(0, u'0.021*http + 0.020*yelp + 0.015*www + 0.014*select + 0.012*burger'), (1, u'0.010*de + 0.008*est + 0.007*die + 0.007*man + 0.007*le'), (2, u'0.024*mon + 0.024*ami + 0.022*gabi + 0.018*french + 0.015*vega'), (3, u'0.040*great + 0.033*food + 0.024*bellagio + 0.023*view + 0.023*service'), (4, u'0.050*breakfast + 0.044*egg + 0.021*benedict + 0.020*brunch + 0.019*good'), (5, u'0.008*squash + 0.007*brussels + 0.006*butternut + 0.005*changing + 0.004*fran\\xe7ais'), (6, u'0.029*sandwich + 0.015*tuna + 0.011*seafood + 0.010*burger + 0.009*chicken'), (7, u'0.022*table + 0.018*food + 0.017*reservation + 0.015*wait + 0.014*service'), (8, u'0.021*steak + 0.015*sauce + 0.015*ordered + 0.014*good + 0.014*delicious'), (9, u'0.044*steak + 0.017*good + 0.015*ordered + 0.014*filet + 0.013*star')]\n"
     ]
    }
   ],
   "source": [
    "ida_model_gensim(review_sample,'One_Resteraunt_Topic',10)"
   ]
  },
  {
   "cell_type": "code",
   "execution_count": 34,
   "metadata": {
    "collapsed": false
   },
   "outputs": [
    {
     "name": "stdout",
     "output_type": "stream",
     "text": [
      "Total 1.35751666625 mins\n",
      "[(0, u'0.048*mon + 0.048*ami + 0.044*gabi + 0.032*vega + 0.023*restaurant'), (1, u'0.026*good + 0.026*steak + 0.014*soup + 0.013*french + 0.011*place'), (2, u'0.024*table + 0.021*food + 0.016*party + 0.015*service + 0.012*check'), (3, u'0.025*star + 0.021*seafood + 0.018*5 + 0.016*4 + 0.015*waiter'), (4, u'0.069*service + 0.053*food + 0.024*good + 0.023*excellent + 0.014*great'), (5, u'0.018*est + 0.014*de + 0.013*le + 0.012*wedding + 0.012*guest'), (6, u'0.011*die + 0.011*man + 0.011*und + 0.009*reception + 0.009*auf'), (7, u'0.041*breakfast + 0.039*egg + 0.019*benedict + 0.017*good + 0.016*french'), (8, u'0.035*steak + 0.024*ordered + 0.019*sauce + 0.017*good + 0.017*cooked'), (9, u'0.024*reservation + 0.023*wait + 0.022*table + 0.020*hostess + 0.020*told'), (10, u'0.049*great + 0.041*food + 0.030*bellagio + 0.029*view + 0.027*place'), (11, u'0.063*free + 0.049*gluten + 0.018*bread + 0.016*menu + 0.014*sprout'), (12, u'0.027*onion + 0.025*soup + 0.023*steak + 0.023*filet + 0.018*cheese'), (13, u'0.031*steak + 0.026*great + 0.017*dinner + 0.017*food + 0.013*place'), (14, u'0.013*table + 0.012*ordered + 0.010*bread + 0.009*cheese + 0.009*patio')]\n"
     ]
    }
   ],
   "source": [
    "ida_model_gensim(review_sample,'One_Resteraunt_Topic',15)"
   ]
  },
  {
   "cell_type": "code",
   "execution_count": null,
   "metadata": {
    "collapsed": true
   },
   "outputs": [],
   "source": [
    "# Research Plan: \n",
    "# 1. generate an national topic model(common things)\n",
    "# 2. By region\n",
    "# 3. By food type\n"
   ]
  },
  {
   "cell_type": "code",
   "execution_count": 49,
   "metadata": {
    "collapsed": false
   },
   "outputs": [
    {
     "name": "stdout",
     "output_type": "stream",
     "text": [
      "Step 1: Parsed to bag of words finished: 0.0001833319664  mins\n",
      "\n",
      "Step 2: Dictionary of unique words built: 0.00208333333333  mins\n",
      "\n",
      "Step 3: Model built: 0.613199996948  mins\n",
      "\n",
      "Total run time:  0.61548333168  mins\n",
      "\n",
      "[(0, u'0.031*food + 0.015*coupon + 0.014*meal + 0.013*wasn + 0.012*birthday + 0.012*25 + 0.010*worth + 0.010*reservation + 0.009*ll + 0.008*friend'), (1, u'0.024*salad + 0.022*meat + 0.018*bar + 0.013*tdb + 0.012*place + 0.011*table + 0.011*steak + 0.010*cut + 0.008*side + 0.007*server'), (2, u'0.017*meat + 0.013*salad + 0.011*place + 0.010*der + 0.009*bar + 0.009*steak + 0.008*de + 0.008*rib + 0.007*brazilian + 0.007*chicken'), (3, u'0.019*food + 0.017*loved + 0.014*guud + 0.013*vega + 0.013*eat + 0.012*time + 0.011*brazillian + 0.009*4 + 0.009*restaurant + 0.008*ll'), (4, u'0.026*step + 0.012*good + 0.010*avoid + 0.009*extra + 0.009*restaurant + 0.009*staff + 0.008*food + 0.007*meat + 0.007*wanna + 0.007*expect'), (5, u'0.029*meat + 0.018*food + 0.017*time + 0.016*service + 0.016*place + 0.015*bar + 0.014*salad + 0.013*vega + 0.013*ve + 0.012*de'), (6, u'0.030*meat + 0.018*salad + 0.018*place + 0.015*table + 0.013*bar + 0.012*great + 0.010*food + 0.010*good + 0.009*service + 0.008*lamb'), (7, u'0.029*good + 0.028*meat + 0.025*dessert + 0.019*salad + 0.016*bar + 0.013*time + 0.013*loved + 0.012*delicious + 0.011*lobster + 0.010*cheese'), (8, u'0.040*meat + 0.020*salad + 0.017*bar + 0.014*place + 0.013*food + 0.012*good + 0.012*rex + 0.010*great + 0.008*time + 0.007*service'), (9, u'0.023*meat + 0.022*good + 0.018*service + 0.018*food + 0.015*de + 0.014*salad + 0.012*texas + 0.011*great + 0.011*bar + 0.010*fogo'), (10, u'0.041*meat + 0.033*food + 0.028*good + 0.024*great + 0.015*place + 0.014*service + 0.011*waiter + 0.010*experience + 0.010*eat + 0.009*bar'), (11, u'0.020*restaurant + 0.012*service + 0.012*location + 0.012*eclub + 0.008*loyal + 0.008*problem + 0.008*voucher + 0.008*potentially + 0.008*complimentary + 0.008*called'), (12, u'0.034*meat + 0.019*place + 0.018*good + 0.012*ve + 0.011*de + 0.011*salad + 0.011*dinner + 0.010*bar + 0.010*service + 0.009*star'), (13, u'0.030*meat + 0.016*salad + 0.014*bar + 0.014*good + 0.012*service + 0.011*food + 0.011*time + 0.010*brazil + 0.010*price + 0.010*texas'), (14, u'0.035*meat + 0.014*salad + 0.013*bar + 0.011*server + 0.010*place + 0.010*food + 0.009*price + 0.009*meal + 0.008*bread + 0.008*felt'), (15, u'0.021*brazil + 0.020*food + 0.020*meat + 0.020*de + 0.019*texas + 0.013*steak + 0.011*time + 0.009*bar + 0.008*place + 0.008*wait'), (16, u'0.056*meat + 0.017*salad + 0.015*bar + 0.012*place + 0.012*good + 0.010*eat + 0.009*lamb + 0.009*chicken + 0.009*time + 0.008*table'), (17, u'0.016*price + 0.012*steak + 0.010*meat + 0.010*brazil + 0.009*worth + 0.008*de + 0.008*manager + 0.008*attitude + 0.008*birthday + 0.008*texas'), (18, u'0.033*birthday + 0.020*meat + 0.018*bar + 0.017*place + 0.015*salad + 0.012*service + 0.012*great + 0.012*coupon + 0.012*server + 0.009*time'), (19, u'0.036*meat + 0.021*salad + 0.018*bar + 0.014*de + 0.013*good + 0.013*brazil + 0.012*texas + 0.011*steak + 0.010*place + 0.008*chicken'), (20, u'0.023*salad + 0.017*bar + 0.017*lot + 0.017*save + 0.015*great + 0.015*desert + 0.013*meat + 0.012*good + 0.012*outstanding + 0.011*pricey'), (21, u'0.052*food + 0.049*service + 0.026*amazing + 0.019*place + 0.017*love + 0.015*restaurant + 0.015*meat + 0.014*great + 0.013*excellent + 0.012*salad'), (22, u'0.022*salad + 0.021*meat + 0.019*bar + 0.015*food + 0.012*time + 0.012*good + 0.010*place + 0.007*don + 0.007*amazing + 0.007*great'), (23, u'0.023*meat + 0.021*good + 0.015*table + 0.012*5 + 0.011*place + 0.011*didn + 0.010*eat + 0.009*salad + 0.009*time + 0.009*don'), (24, u'0.023*son + 0.019*girlfriend + 0.015*server + 0.015*uk + 0.011*didn + 0.011*license + 0.011*birthday + 0.008*term + 0.008*check + 0.008*restaurant'), (25, u'0.027*service + 0.018*manager + 0.017*customer + 0.015*food + 0.012*guy + 0.010*good + 0.010*time + 0.009*waiter + 0.009*dinner + 0.009*restaurant'), (26, u'0.028*meat + 0.018*place + 0.015*1 + 0.012*bar + 0.011*salad + 0.010*birthday + 0.009*eat + 0.008*don + 0.008*food + 0.008*dinner'), (27, u'0.093*great + 0.044*place + 0.044*food + 0.025*vega + 0.018*10 + 0.017*group + 0.017*service + 0.016*staff + 0.015*time + 0.015*meat'), (28, u'0.022*meat + 0.019*salad + 0.016*eat + 0.015*place + 0.015*bar + 0.013*hungry + 0.009*green + 0.009*red + 0.009*sign + 0.009*favorite'), (29, u'0.031*meat + 0.022*salad + 0.017*bar + 0.013*place + 0.011*good + 0.011*time + 0.010*potato + 0.009*2 + 0.008*churrascaria + 0.008*beef'), (30, u'0.026*meat + 0.025*good + 0.021*salad + 0.018*bar + 0.012*food + 0.011*suggest + 0.010*drink + 0.009*reservation + 0.007*birthday + 0.007*compare'), (31, u'0.021*salad + 0.016*bar + 0.013*place + 0.008*eat + 0.008*meat + 0.008*vega + 0.008*excellent + 0.008*service + 0.008*food + 0.008*offering'), (32, u'0.022*great + 0.021*meat + 0.018*place + 0.014*food + 0.011*good + 0.010*chicken + 0.010*steak + 0.009*service + 0.009*bacon + 0.008*birthday'), (33, u'0.025*meat + 0.014*buffet + 0.013*nice + 0.010*amazing + 0.009*dinner + 0.009*friend + 0.008*day + 0.008*food + 0.008*minute + 0.008*place'), (34, u'0.028*great + 0.027*meat + 0.027*salad + 0.021*bar + 0.017*rib + 0.014*steak + 0.014*beef + 0.013*food + 0.013*delicious + 0.012*good'), (35, u'0.023*meat + 0.014*eat + 0.014*time + 0.011*salad + 0.011*dinner + 0.010*table + 0.010*reservation + 0.009*bar + 0.009*don + 0.008*man'), (36, u'0.041*meat + 0.026*good + 0.018*salad + 0.016*buffet + 0.014*steak + 0.013*food + 0.013*salty + 0.011*place + 0.008*quality + 0.008*brazilian'), (37, u'0.022*meat + 0.021*salad + 0.016*bar + 0.016*place + 0.015*eat + 0.013*love + 0.009*don + 0.009*good + 0.009*food + 0.008*service'), (38, u'0.025*place + 0.019*meat + 0.016*good + 0.015*highly + 0.013*great + 0.013*lot + 0.012*impressed + 0.011*recommend + 0.011*food + 0.010*attentive'), (39, u'0.019*time + 0.018*meat + 0.018*brazilian + 0.017*love + 0.016*de + 0.014*place + 0.014*texas + 0.013*bar + 0.013*salad + 0.013*brazil'), (40, u'0.024*meat + 0.018*salad + 0.017*bar + 0.013*place + 0.011*filet + 0.011*sirloin + 0.010*great + 0.009*drink + 0.008*eat + 0.008*house'), (41, u'0.018*meat + 0.017*place + 0.014*salad + 0.012*bar + 0.008*side + 0.008*amazing + 0.008*cheese + 0.008*husband + 0.008*sausage + 0.007*mignon'), (42, u'0.015*food + 0.013*great + 0.012*cow + 0.010*service + 0.010*bar + 0.009*de + 0.009*le + 0.009*buffet + 0.007*steak + 0.007*salad'), (43, u'0.016*birthday + 0.011*experience + 0.011*dessert + 0.011*great + 0.011*food + 0.011*dinner + 0.011*party + 0.011*serving + 0.011*2nd + 0.011*beach'), (44, u'0.041*meat + 0.029*salad + 0.020*bar + 0.017*place + 0.013*favorite + 0.010*cheese + 0.010*delicious + 0.010*brazilian + 0.009*good + 0.009*side'), (45, u'0.028*meat + 0.017*salad + 0.014*lamb + 0.014*good + 0.012*bar + 0.011*place + 0.009*great + 0.008*side + 0.008*5 + 0.007*service'), (46, u'0.028*meat + 0.015*place + 0.013*salad + 0.013*excellent + 0.012*great + 0.009*awesome + 0.009*time + 0.009*dish + 0.009*favorite + 0.009*rare'), (47, u'0.034*food + 0.027*service + 0.020*lunch + 0.020*great + 0.018*worth + 0.016*meat + 0.016*place + 0.015*price + 0.015*good + 0.013*wait'), (48, u'0.032*waiter + 0.024*time + 0.015*coffee + 0.014*reservation + 0.013*wine + 0.010*nice + 0.009*steak + 0.009*latte + 0.009*walking + 0.009*creme'), (49, u'0.023*meat + 0.018*good + 0.011*de + 0.011*time + 0.011*great + 0.009*place + 0.009*location + 0.009*meal + 0.009*quality + 0.009*selection')]\n"
     ]
    }
   ],
   "source": [
    "review_sample=Yelp_us_food_review_preprocessed[Yelp_us_food_review_preprocessed['business_id']=='ryvMJK6AlbU35HKrlFT61w']\n",
    "\n",
    "ida_model_gensim(review_sample,'Texas_de_Brazil_Topic50',50)"
   ]
  },
  {
   "cell_type": "markdown",
   "metadata": {},
   "source": [
    "### 4.2 Check the source text"
   ]
  },
  {
   "cell_type": "code",
   "execution_count": 52,
   "metadata": {
    "collapsed": false
   },
   "outputs": [
    {
     "name": "stdout",
     "output_type": "stream",
     "text": [
      "Hit 1  :\n",
      "ryvMJK6AlbU35HKrlFT61w\n",
      "aAgVM6GwWBEHZTDdQ5oa3A\n",
      "(Up front apology..... this is a slight reworked review from others I've done on Brazilian BBQ's in the Western states.) And know that I'd like to have given Texas a 3.75 stars if it existed, but have given the new Fogo in LV 4 stars, mainly for the meat quality. \r",
      "\r\n",
      "\r",
      "\r\n",
      "Our family is Brasilian. Here in Orange County, CA, we and our group of friends have tried just about every churrascaria that's opened or is still open in the Southwest. Many of us, during business travels, have also had the opportunity to sample US based Brasilian BBQ both on the East and West Coasts, and some in-between places..........like Salt Lake City, UT. Restaurant reviews need a reference point, and Brasilian BBQ's most especially.\r",
      "\r\n",
      "\r",
      "\r\n",
      "Over the last 20 years, we've watched them come and go; some very good, some horrible. Yolie's of Las Vegas, for example and IMHO, is on the \"horrible\" end. Problem with the Brasilian BBQ restaurants is their ability to be \"consistent.\" While good food is a necessity, the style of service, called \"Rodizio\", is critical. And well trained \"Gauchos\", or meat-servers, are usually the breakpoint as to whether a churracaria is going to be rated high. \r",
      "\r\n",
      "\r",
      "\r\n",
      "Consider that most reviewers have had limited exposure to traditional churrascarias. In Brasil a churracaria can be a contained in a bus stop - gas station area, or as a full-on up-scale stand-alone restaurant. Regardless of size or ambience, it's primarily about the quality of the buffet, meats and the service. Example; \"The service here was excellent!\" That's probably true and understandable if you've never had a server bring filet to your table, multiple times. But \"excellent service\" at a Brasilian churrascaria includes a gaucho-server that knows his meats, asks you for your perferences, knows how to pass your table and show what's available without disturbing your eating. And again, they should be more than willing to help you with special requests.\r",
      "\r\n",
      "\r",
      "\r\n",
      "What you should expect from an excellent churrascaria is a hot and cold buffet style entree and salad bar. In Brazil, and at high end establishments, this includes high quality sushi and sashimi, and of course, rice, black beans and various vinigrettes and dressings. If you are a vegetarian, a great churrascaria should be able to keep you as full as your carnivor friends, with equal or better quality items. Service and food are usually what Brasilians speak of when chatting about their restaurant experience. It's a three-point system. And properly rated, you would seperate them, rate them, and then total up the score.\r",
      "\r\n",
      "\r",
      "\r\n",
      "Traveling through the US, my opinion is that there are no \"great Brasilian BBQ's.\" Fogo de Chao in Dallas-Ft. Worth, so far, is the best experience I've had, while their Beverly Hills location was very dissappointing. T de B is adequate, but definitely not \"great.\"  \r",
      "\r\n",
      "\r",
      "\r\n",
      "If meat is your pleasure, then make sure to let the Gaucho-server and staff know your preferences. If you don't want to waste time on chicken and bacon frufru items, then just tell your server to, for instance, just bring you \".....rare filet, tri-tip, called \"picanha\" (pee-cahn-ya), or whatever you prefer. If you aren't getting rapid return service on the meats, then by all means, and because you're paying for it, let them know. You shouldn't have to, but if want to enjoy your meal, get that issue resolved early on.\r",
      "\r\n",
      "\r",
      "\r\n",
      "I'd say that Texas de Brazil is worth a moderate 3 star rating if compared to Fogo's Dallas-FW location. It is certainly much closer to traditional churracaria than any of the LV Strip hotel restaurants. I've tried them all and was sorely disappointed. If you're in the SoCal area, and close to John Wayne Airport, try Agora at Main and McArthur. If in the Long Beach area, a good \"blue collar\" consistently OK spot is Greenfield's. \r",
      "\r\n",
      "\r",
      "\r\n",
      "If you travel to Boston, Miami or the New Jersey areas, you'll find larger populations of Brasilians and better food overall. Just don't get too excited over Texas de Brazil. Yes, it's way better than most other spots in town, but I promise......... there's better.\r",
      "\r\n",
      "\r",
      "\r\n",
      "BTW..... most of the churracarias run a bit high on mixed drinks and also the desserts, but if they're good, they've prepared them \"in house.\"\n",
      "---------------------------\n",
      "Hit 2  :\n",
      "ryvMJK6AlbU35HKrlFT61w\n",
      "phgEBo1ORIJTHjrJQFFnkA\n",
      "Given that I travel quite a bit and have dinner with alot of clients, I have had the opportunity to try various Texas De Brazil throughout the US (Dallas, Miami, and now Las Vegas).  This Texas De Brazil was not that good.\r",
      "\r\n",
      "\r",
      "\r\n",
      "The service was very good.  Wait staff knew their orders and took care of you.\r",
      "\r\n",
      "\r",
      "\r\n",
      "Environment... a bit too noisy for me.  \r",
      "\r\n",
      "\r",
      "\r\n",
      "Food... salad bar is excellent.  However, the meat (actually -- most of them) were beyond salty.  Usually, Brazilian food is salty, but this is beyond extreme.  I think it was just for that night.  It happened to be the wrong night... The ones in Dallas and Miami were cooked to perfection...\r",
      "\r\n",
      "\r",
      "\r\n",
      "Overall, for the price, location, and quality, it was average.  For $40 a pop, I rather go to the buffet at the M or Asia buffet... cheaper and more bearable...\r",
      "\r\n",
      "\r",
      "\r\n",
      "By the way, the best Brazilian Steak house that we ever ate at is located in Dallas --- Fogo De Chau --- totally awesome!\n",
      "---------------------------\n",
      "Hit 3  :\n",
      "ryvMJK6AlbU35HKrlFT61w\n",
      "txM5J6AdioC5I8MAJG2_ZQ\n",
      "First off, this place is expensive, but you get what you pay for. \r",
      "\r\n",
      "\r",
      "\r\n",
      "Secondly, if you're visiting Las Vegas on vacation, you'll pay just as much if not more for an inferior meal on the Strip.\r",
      "\r\n",
      "\r",
      "\r\n",
      "I had eaten at the one in Dallas (Addison) before, so when I saw they had one just south of the Strip, I knew we had to go. Since we were staying at the Luxor, it took us longer to walk to the car than it took to drive there. Seriously, it would take longer to walk to a restaurant at another casino than it does to drive here. It is literally just a couple of minutes south of Mandalay Bay.\r",
      "\r\n",
      "\r",
      "\r\n",
      "The salad bar is amazing. It is a meal in itself. My girlfriend, a former vegetarian, said she could have easily had an amazing meal here as a vegetarian based on the tremendous amount of non-meat choices they had on the salad bar. This is not just a place for carnivores.\r",
      "\r\n",
      "\r",
      "\r\n",
      "When I go, I try to avoid the various sausages and other cheap, filling meats they seem to bring around more often. I hold out for the less frequently circulated high quality meats. Don't feel obliged to take everything they offer. Keep moving with that sausage, I'll wait for the bacon wrapped filet mignon, thank you.\r",
      "\r\n",
      "\r",
      "\r\n",
      "Oh yeah, just one of their mojitos will knock your socks off. It was like pure alcohol.\n",
      "---------------------------\n",
      "Hit 4  :\n",
      "ryvMJK6AlbU35HKrlFT61w\n",
      "yihGDZoix9FnV0RDe1klNg\n",
      "First time at Texas De Brazil in Vegas.  Having been to one in Dallas previously, I knew what to expect.\r",
      "\r\n",
      "\r",
      "\r\n",
      "I went with several people in my industry after a trade show.\r",
      "\r\n",
      "\r",
      "\r\n",
      "The salad bar was just what I needed.  Being a sucker for Spinach, I was able to concoct a spinach salad with all the decadent goodies I wanted, while not spoiling my appetite for the meatfest to follow.  Fresh mozzarella balls, balsalmic, ripe tomato slices...perfect.\r",
      "\r\n",
      "\r",
      "\r\n",
      "The meats were broiled to perfection, speedily brought around to the tables, and rarely did I see the same cuts, unless I had seen the rest of the variety  first.  The lamb chops and leg were my favorite.\n",
      "---------------------------\n"
     ]
    }
   ],
   "source": [
    "target_string='dallas'\n",
    "\n",
    "def locate_string(data,target_string):\n",
    "    hit_cnt=0\n",
    "    for i in range(len(data)):\n",
    "        if target_string in data.iloc[i]['Preprocessed_Text']: \n",
    "            hit_cnt+=1\n",
    "            print 'Hit', hit_cnt, ' :'\n",
    "            print data.iloc[i]['business_id']\n",
    "            print data.iloc[i]['review_id']\n",
    "            print data.iloc[i]['text']\n",
    "            print '---------------------------'\n",
    "\n",
    "locate_string(review_sample, target_string)"
   ]
  }
 ],
 "metadata": {
  "kernelspec": {
   "display_name": "Python 2",
   "language": "python",
   "name": "python2"
  },
  "language_info": {
   "codemirror_mode": {
    "name": "ipython",
    "version": 2
   },
   "file_extension": ".py",
   "mimetype": "text/x-python",
   "name": "python",
   "nbconvert_exporter": "python",
   "pygments_lexer": "ipython2",
   "version": "2.7.11"
  }
 },
 "nbformat": 4,
 "nbformat_minor": 0
}
