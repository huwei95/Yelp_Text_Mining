{
 "cells": [
  {
   "cell_type": "code",
   "execution_count": 10,
   "metadata": {
    "collapsed": false
   },
   "outputs": [],
   "source": [
    "import pandas as pd\n",
    "import numpy as np\n",
    "import re\n",
    "import os\n",
    "import matplotlib as plt\n",
    "import time\n",
    "%matplotlib inline\n",
    "work_dir='D:\\\\002.Learning\\\\Yelp_Data_Challenge\\\\Yelp_Dataset_Round7\\\\'\n",
    "Yelp_us_food_review_preprocessed=pd.read_csv('Yelp_us_food_review_preprocessed.csv')"
   ]
  },
  {
   "cell_type": "code",
   "execution_count": 11,
   "metadata": {
    "collapsed": true
   },
   "outputs": [],
   "source": [
    "def ida_model_gensim(data,model_name, num_topics):\n",
    "    step1_start_time=time.time()\n",
    "    #step 1 converted to texts\n",
    "    bagofwords=[[words for words in document.split(' ')] for document in data['Preprocessed_Text'] if pd.notnull(document)]\n",
    "    step1_end_time=time.time()\n",
    "    print 'Step 1: Parsed to bag of words finished:', (step1_end_time-step1_start_time)/60, ' mins\\n'\n",
    "    \n",
    "    #step 2 build library for unique words  \n",
    "    step2_start_time=time.time()\n",
    "    dictionary=corpora.Dictionary(bagofwords)\n",
    "    corpus=[dictionary.doc2bow(text) for text in bagofwords]\n",
    "    step2_end_time=time.time()\n",
    "    print 'Step 2: Dictionary of unique words built:', (step2_end_time-step2_start_time)/60, ' mins\\n'\n",
    "    #step 3 Represent the bag of words using dictionary index\n",
    "    step3_start_time=time.time()\n",
    "    ldamodel=gensim.models.ldamodel.LdaModel(corpus, num_topics=num_topics, id2word=dictionary, passes=20)\n",
    "    ldamodel.save('models/'+model_name)\n",
    "    step3_end_time=time.time()\n",
    "    print 'Step 3: Model built:', (step3_end_time-step3_start_time)/60, ' mins\\n'\n",
    "    print 'Total run time: ',(step3_end_time-step1_start_time)/60, ' mins\\n'\n",
    "    print ldamodel.print_topics(num_topics=50,num_words=10)"
   ]
  },
  {
   "cell_type": "code",
   "execution_count": 13,
   "metadata": {
    "collapsed": false
   },
   "outputs": [
    {
     "name": "stdout",
     "output_type": "stream",
     "text": [
      "region AZ\n"
     ]
    },
    {
     "ename": "KeyError",
     "evalue": "'state'",
     "output_type": "error",
     "traceback": [
      "\u001b[1;31m---------------------------------------------------------------------------\u001b[0m",
      "\u001b[1;31mKeyError\u001b[0m                                  Traceback (most recent call last)",
      "\u001b[1;32m<ipython-input-13-b49232f9a6b0>\u001b[0m in \u001b[0;36m<module>\u001b[1;34m()\u001b[0m\n\u001b[0;32m      3\u001b[0m \u001b[1;32mfor\u001b[0m \u001b[0mregion\u001b[0m \u001b[1;32min\u001b[0m \u001b[0mregions\u001b[0m\u001b[1;33m:\u001b[0m\u001b[1;33m\u001b[0m\u001b[0m\n\u001b[0;32m      4\u001b[0m     \u001b[1;32mprint\u001b[0m \u001b[1;34m'region'\u001b[0m\u001b[1;33m,\u001b[0m \u001b[0mregion\u001b[0m\u001b[1;33m\u001b[0m\u001b[0m\n\u001b[1;32m----> 5\u001b[1;33m     \u001b[0mYelp_us_food_region\u001b[0m\u001b[1;33m=\u001b[0m\u001b[0mYelp_us_food_review_preprocessed\u001b[0m\u001b[1;33m[\u001b[0m\u001b[0mYelp_us_food_review_preprocessed\u001b[0m\u001b[1;33m[\u001b[0m\u001b[1;34m'state'\u001b[0m\u001b[1;33m]\u001b[0m\u001b[1;33m==\u001b[0m\u001b[0mregion\u001b[0m\u001b[1;33m]\u001b[0m\u001b[1;33m\u001b[0m\u001b[0m\n\u001b[0m\u001b[0;32m      6\u001b[0m     \u001b[0mida_model_gensim\u001b[0m\u001b[1;33m(\u001b[0m\u001b[0mYelp_us_food_region\u001b[0m\u001b[1;33m,\u001b[0m \u001b[0mregion\u001b[0m\u001b[1;33m+\u001b[0m\u001b[1;34m'_topic50'\u001b[0m\u001b[1;33m,\u001b[0m\u001b[1;36m50\u001b[0m\u001b[1;33m)\u001b[0m\u001b[1;33m\u001b[0m\u001b[0m\n",
      "\u001b[1;32mC:\\Anaconda2\\lib\\site-packages\\pandas\\core\\frame.pyc\u001b[0m in \u001b[0;36m__getitem__\u001b[1;34m(self, key)\u001b[0m\n\u001b[0;32m   1990\u001b[0m             \u001b[1;32mreturn\u001b[0m \u001b[0mself\u001b[0m\u001b[1;33m.\u001b[0m\u001b[0m_getitem_multilevel\u001b[0m\u001b[1;33m(\u001b[0m\u001b[0mkey\u001b[0m\u001b[1;33m)\u001b[0m\u001b[1;33m\u001b[0m\u001b[0m\n\u001b[0;32m   1991\u001b[0m         \u001b[1;32melse\u001b[0m\u001b[1;33m:\u001b[0m\u001b[1;33m\u001b[0m\u001b[0m\n\u001b[1;32m-> 1992\u001b[1;33m             \u001b[1;32mreturn\u001b[0m \u001b[0mself\u001b[0m\u001b[1;33m.\u001b[0m\u001b[0m_getitem_column\u001b[0m\u001b[1;33m(\u001b[0m\u001b[0mkey\u001b[0m\u001b[1;33m)\u001b[0m\u001b[1;33m\u001b[0m\u001b[0m\n\u001b[0m\u001b[0;32m   1993\u001b[0m \u001b[1;33m\u001b[0m\u001b[0m\n\u001b[0;32m   1994\u001b[0m     \u001b[1;32mdef\u001b[0m \u001b[0m_getitem_column\u001b[0m\u001b[1;33m(\u001b[0m\u001b[0mself\u001b[0m\u001b[1;33m,\u001b[0m \u001b[0mkey\u001b[0m\u001b[1;33m)\u001b[0m\u001b[1;33m:\u001b[0m\u001b[1;33m\u001b[0m\u001b[0m\n",
      "\u001b[1;32mC:\\Anaconda2\\lib\\site-packages\\pandas\\core\\frame.pyc\u001b[0m in \u001b[0;36m_getitem_column\u001b[1;34m(self, key)\u001b[0m\n\u001b[0;32m   1997\u001b[0m         \u001b[1;31m# get column\u001b[0m\u001b[1;33m\u001b[0m\u001b[1;33m\u001b[0m\u001b[0m\n\u001b[0;32m   1998\u001b[0m         \u001b[1;32mif\u001b[0m \u001b[0mself\u001b[0m\u001b[1;33m.\u001b[0m\u001b[0mcolumns\u001b[0m\u001b[1;33m.\u001b[0m\u001b[0mis_unique\u001b[0m\u001b[1;33m:\u001b[0m\u001b[1;33m\u001b[0m\u001b[0m\n\u001b[1;32m-> 1999\u001b[1;33m             \u001b[1;32mreturn\u001b[0m \u001b[0mself\u001b[0m\u001b[1;33m.\u001b[0m\u001b[0m_get_item_cache\u001b[0m\u001b[1;33m(\u001b[0m\u001b[0mkey\u001b[0m\u001b[1;33m)\u001b[0m\u001b[1;33m\u001b[0m\u001b[0m\n\u001b[0m\u001b[0;32m   2000\u001b[0m \u001b[1;33m\u001b[0m\u001b[0m\n\u001b[0;32m   2001\u001b[0m         \u001b[1;31m# duplicate columns & possible reduce dimensionality\u001b[0m\u001b[1;33m\u001b[0m\u001b[1;33m\u001b[0m\u001b[0m\n",
      "\u001b[1;32mC:\\Anaconda2\\lib\\site-packages\\pandas\\core\\generic.pyc\u001b[0m in \u001b[0;36m_get_item_cache\u001b[1;34m(self, item)\u001b[0m\n\u001b[0;32m   1343\u001b[0m         \u001b[0mres\u001b[0m \u001b[1;33m=\u001b[0m \u001b[0mcache\u001b[0m\u001b[1;33m.\u001b[0m\u001b[0mget\u001b[0m\u001b[1;33m(\u001b[0m\u001b[0mitem\u001b[0m\u001b[1;33m)\u001b[0m\u001b[1;33m\u001b[0m\u001b[0m\n\u001b[0;32m   1344\u001b[0m         \u001b[1;32mif\u001b[0m \u001b[0mres\u001b[0m \u001b[1;32mis\u001b[0m \u001b[0mNone\u001b[0m\u001b[1;33m:\u001b[0m\u001b[1;33m\u001b[0m\u001b[0m\n\u001b[1;32m-> 1345\u001b[1;33m             \u001b[0mvalues\u001b[0m \u001b[1;33m=\u001b[0m \u001b[0mself\u001b[0m\u001b[1;33m.\u001b[0m\u001b[0m_data\u001b[0m\u001b[1;33m.\u001b[0m\u001b[0mget\u001b[0m\u001b[1;33m(\u001b[0m\u001b[0mitem\u001b[0m\u001b[1;33m)\u001b[0m\u001b[1;33m\u001b[0m\u001b[0m\n\u001b[0m\u001b[0;32m   1346\u001b[0m             \u001b[0mres\u001b[0m \u001b[1;33m=\u001b[0m \u001b[0mself\u001b[0m\u001b[1;33m.\u001b[0m\u001b[0m_box_item_values\u001b[0m\u001b[1;33m(\u001b[0m\u001b[0mitem\u001b[0m\u001b[1;33m,\u001b[0m \u001b[0mvalues\u001b[0m\u001b[1;33m)\u001b[0m\u001b[1;33m\u001b[0m\u001b[0m\n\u001b[0;32m   1347\u001b[0m             \u001b[0mcache\u001b[0m\u001b[1;33m[\u001b[0m\u001b[0mitem\u001b[0m\u001b[1;33m]\u001b[0m \u001b[1;33m=\u001b[0m \u001b[0mres\u001b[0m\u001b[1;33m\u001b[0m\u001b[0m\n",
      "\u001b[1;32mC:\\Anaconda2\\lib\\site-packages\\pandas\\core\\internals.pyc\u001b[0m in \u001b[0;36mget\u001b[1;34m(self, item, fastpath)\u001b[0m\n\u001b[0;32m   3223\u001b[0m \u001b[1;33m\u001b[0m\u001b[0m\n\u001b[0;32m   3224\u001b[0m             \u001b[1;32mif\u001b[0m \u001b[1;32mnot\u001b[0m \u001b[0misnull\u001b[0m\u001b[1;33m(\u001b[0m\u001b[0mitem\u001b[0m\u001b[1;33m)\u001b[0m\u001b[1;33m:\u001b[0m\u001b[1;33m\u001b[0m\u001b[0m\n\u001b[1;32m-> 3225\u001b[1;33m                 \u001b[0mloc\u001b[0m \u001b[1;33m=\u001b[0m \u001b[0mself\u001b[0m\u001b[1;33m.\u001b[0m\u001b[0mitems\u001b[0m\u001b[1;33m.\u001b[0m\u001b[0mget_loc\u001b[0m\u001b[1;33m(\u001b[0m\u001b[0mitem\u001b[0m\u001b[1;33m)\u001b[0m\u001b[1;33m\u001b[0m\u001b[0m\n\u001b[0m\u001b[0;32m   3226\u001b[0m             \u001b[1;32melse\u001b[0m\u001b[1;33m:\u001b[0m\u001b[1;33m\u001b[0m\u001b[0m\n\u001b[0;32m   3227\u001b[0m                 \u001b[0mindexer\u001b[0m \u001b[1;33m=\u001b[0m \u001b[0mnp\u001b[0m\u001b[1;33m.\u001b[0m\u001b[0marange\u001b[0m\u001b[1;33m(\u001b[0m\u001b[0mlen\u001b[0m\u001b[1;33m(\u001b[0m\u001b[0mself\u001b[0m\u001b[1;33m.\u001b[0m\u001b[0mitems\u001b[0m\u001b[1;33m)\u001b[0m\u001b[1;33m)\u001b[0m\u001b[1;33m[\u001b[0m\u001b[0misnull\u001b[0m\u001b[1;33m(\u001b[0m\u001b[0mself\u001b[0m\u001b[1;33m.\u001b[0m\u001b[0mitems\u001b[0m\u001b[1;33m)\u001b[0m\u001b[1;33m]\u001b[0m\u001b[1;33m\u001b[0m\u001b[0m\n",
      "\u001b[1;32mC:\\Anaconda2\\lib\\site-packages\\pandas\\indexes\\base.pyc\u001b[0m in \u001b[0;36mget_loc\u001b[1;34m(self, key, method, tolerance)\u001b[0m\n\u001b[0;32m   1876\u001b[0m                 \u001b[1;32mreturn\u001b[0m \u001b[0mself\u001b[0m\u001b[1;33m.\u001b[0m\u001b[0m_engine\u001b[0m\u001b[1;33m.\u001b[0m\u001b[0mget_loc\u001b[0m\u001b[1;33m(\u001b[0m\u001b[0mkey\u001b[0m\u001b[1;33m)\u001b[0m\u001b[1;33m\u001b[0m\u001b[0m\n\u001b[0;32m   1877\u001b[0m             \u001b[1;32mexcept\u001b[0m \u001b[0mKeyError\u001b[0m\u001b[1;33m:\u001b[0m\u001b[1;33m\u001b[0m\u001b[0m\n\u001b[1;32m-> 1878\u001b[1;33m                 \u001b[1;32mreturn\u001b[0m \u001b[0mself\u001b[0m\u001b[1;33m.\u001b[0m\u001b[0m_engine\u001b[0m\u001b[1;33m.\u001b[0m\u001b[0mget_loc\u001b[0m\u001b[1;33m(\u001b[0m\u001b[0mself\u001b[0m\u001b[1;33m.\u001b[0m\u001b[0m_maybe_cast_indexer\u001b[0m\u001b[1;33m(\u001b[0m\u001b[0mkey\u001b[0m\u001b[1;33m)\u001b[0m\u001b[1;33m)\u001b[0m\u001b[1;33m\u001b[0m\u001b[0m\n\u001b[0m\u001b[0;32m   1879\u001b[0m \u001b[1;33m\u001b[0m\u001b[0m\n\u001b[0;32m   1880\u001b[0m         \u001b[0mindexer\u001b[0m \u001b[1;33m=\u001b[0m \u001b[0mself\u001b[0m\u001b[1;33m.\u001b[0m\u001b[0mget_indexer\u001b[0m\u001b[1;33m(\u001b[0m\u001b[1;33m[\u001b[0m\u001b[0mkey\u001b[0m\u001b[1;33m]\u001b[0m\u001b[1;33m,\u001b[0m \u001b[0mmethod\u001b[0m\u001b[1;33m=\u001b[0m\u001b[0mmethod\u001b[0m\u001b[1;33m,\u001b[0m \u001b[0mtolerance\u001b[0m\u001b[1;33m=\u001b[0m\u001b[0mtolerance\u001b[0m\u001b[1;33m)\u001b[0m\u001b[1;33m\u001b[0m\u001b[0m\n",
      "\u001b[1;32mpandas\\index.pyx\u001b[0m in \u001b[0;36mpandas.index.IndexEngine.get_loc (pandas\\index.c:4027)\u001b[1;34m()\u001b[0m\n",
      "\u001b[1;32mpandas\\index.pyx\u001b[0m in \u001b[0;36mpandas.index.IndexEngine.get_loc (pandas\\index.c:3891)\u001b[1;34m()\u001b[0m\n",
      "\u001b[1;32mpandas\\hashtable.pyx\u001b[0m in \u001b[0;36mpandas.hashtable.PyObjectHashTable.get_item (pandas\\hashtable.c:12408)\u001b[1;34m()\u001b[0m\n",
      "\u001b[1;32mpandas\\hashtable.pyx\u001b[0m in \u001b[0;36mpandas.hashtable.PyObjectHashTable.get_item (pandas\\hashtable.c:12359)\u001b[1;34m()\u001b[0m\n",
      "\u001b[1;31mKeyError\u001b[0m: 'state'"
     ]
    }
   ],
   "source": [
    "regions=['AZ','NV','NC','PA','WI','IL']\n",
    "\n",
    "for region in regions:\n",
    "    print 'region', region\n",
    "    Yelp_us_food_region=Yelp_us_food_review_preprocessed[Yelp_us_food_review_preprocessed['state']==region]\n",
    "    ida_model_gensim(Yelp_us_food_region, region+'_topic50',50)"
   ]
  },
  {
   "cell_type": "code",
   "execution_count": null,
   "metadata": {
    "collapsed": true
   },
   "outputs": [],
   "source": []
  },
  {
   "cell_type": "code",
   "execution_count": null,
   "metadata": {
    "collapsed": true
   },
   "outputs": [],
   "source": []
  },
  {
   "cell_type": "code",
   "execution_count": null,
   "metadata": {
    "collapsed": true
   },
   "outputs": [],
   "source": []
  },
  {
   "cell_type": "code",
   "execution_count": 9,
   "metadata": {
    "collapsed": false
   },
   "outputs": [
    {
     "name": "stdout",
     "output_type": "stream",
     "text": [
      "Total 668.115016667 mins\n",
      "\n",
      "[(0, u'0.040*food + 0.031*order + 0.030*minute + 0.023*service + 0.023*time + 0.021*table + 0.019*server + 0.019*ordered + 0.018*asked + 0.015*drink'), (1, u'0.182*wing + 0.037*buffalo + 0.034*honey + 0.032*ayce + 0.028*finger + 0.025*diet + 0.023*ketchup + 0.022*ranch + 0.019*coke + 0.016*custom'), (2, u'0.052*rice + 0.047*soup + 0.044*noodle + 0.041*dish + 0.038*shrimp + 0.026*beef + 0.024*chicken + 0.024*fried + 0.023*pork + 0.023*crab'), (3, u'0.116*great + 0.088*food + 0.071*service + 0.051*friendly + 0.046*place + 0.041*good + 0.040*staff + 0.024*delicious + 0.022*excellent + 0.022*amazing'), (4, u'0.200*wife + 0.060*daughter + 0.054*son + 0.033*smoke + 0.022*con + 0.020*al + 0.018*pro + 0.018*stale + 0.016*de + 0.015*pastor'), (5, u'0.055*surprised + 0.041*pita + 0.040*hummus + 0.036*gyro + 0.034*greek + 0.029*pleasantly + 0.027*lamb + 0.024*shell + 0.023*pittsburgh + 0.022*flight'), (6, u'0.086*waffle + 0.066*option + 0.058*vegan + 0.045*vegetarian + 0.039*biscuit + 0.033*crepe + 0.021*blueberry + 0.021*pumpkin + 0.018*berry + 0.015*stack'), (7, u'0.072*store + 0.045*juice + 0.037*fresh + 0.031*product + 0.026*item + 0.024*buy + 0.019*sample + 0.019*organic + 0.016*selection + 0.015*bought'), (8, u'0.085*good + 0.056*food + 0.054*place + 0.044*price + 0.030*pretty + 0.017*service + 0.016*great + 0.016*quality + 0.015*don + 0.014*menu'), (9, u'0.272*vega + 0.066*pasta + 0.061*italian + 0.043*gelato + 0.033*meatball + 0.032*summerlin + 0.020*trip + 0.016*queso + 0.015*oil + 0.015*carnitas'), (10, u'0.116*downtown + 0.070*grill + 0.050*disappoint + 0.023*muffin + 0.020*thumb + 0.017*chinatown + 0.015*curd + 0.015*english + 0.014*page + 0.013*numerous'), (11, u'0.041*scottsdale + 0.038*valley + 0.028*smell + 0.023*clean + 0.022*dirty + 0.021*bathroom + 0.019*teriyaki + 0.019*paper + 0.018*square + 0.016*floor'), (12, u'0.159*kid + 0.059*soda + 0.035*lemonade + 0.033*child + 0.029*omg + 0.026*dont + 0.025*im + 0.021*machine + 0.020*family + 0.019*adult'), (13, u'0.041*night + 0.036*table + 0.023*open + 0.021*wait + 0.017*bar + 0.017*room + 0.016*time + 0.015*late + 0.015*people + 0.014*dinner'), (14, u'0.057*location + 0.019*opened + 0.016*opening + 0.016*drive + 0.013*lot + 0.013*open + 0.013*friendly + 0.013*area + 0.013*parking + 0.012*business'), (15, u'0.105*thai + 0.069*spicy + 0.064*curry + 0.042*korean + 0.035*spice + 0.032*yum + 0.028*level + 0.023*dish + 0.020*madison + 0.017*heat'), (16, u'0.094*time + 0.069*ve + 0.044*service + 0.026*review + 0.026*food + 0.025*location + 0.023*experience + 0.022*visit + 0.021*don + 0.020*bad'), (17, u'0.139*coffee + 0.115*tea + 0.068*drink + 0.035*milk + 0.035*cup + 0.033*starbucks + 0.031*shop + 0.025*green + 0.025*cafe + 0.020*mango'), (18, u'0.033*chorizo + 0.030*protein + 0.030*bloody + 0.028*mary + 0.019*word + 0.015*concept + 0.012*premium + 0.012*yard + 0.010*delight + 0.010*necessarily'), (19, u'0.109*breakfast + 0.080*egg + 0.046*bacon + 0.041*pancake + 0.034*toast + 0.033*brunch + 0.025*mom + 0.025*french + 0.022*sausage + 0.022*morning'), (20, u'0.042*nice + 0.028*patio + 0.024*seating + 0.022*place + 0.021*friendly + 0.021*cool + 0.020*free + 0.017*great + 0.017*decor + 0.017*area'), (21, u'0.190*cheese + 0.079*mac + 0.035*pot + 0.023*slider + 0.020*blue + 0.018*pretzel + 0.014*airport + 0.013*shredded + 0.013*burnt + 0.012*bone'), (22, u'0.124*steak + 0.085*potato + 0.067*cooked + 0.061*meat + 0.057*beef + 0.033*hash + 0.033*perfectly + 0.027*slaw + 0.026*side + 0.022*medium'), (23, u'0.036*sister + 0.034*popcorn + 0.032*mother + 0.028*sum + 0.025*dim + 0.025*brother + 0.022*bell + 0.021*law + 0.019*haha + 0.019*sooo'), (24, u'0.132*salad + 0.131*lunch + 0.050*chicken + 0.023*fresh + 0.021*dressing + 0.021*healthy + 0.019*menu + 0.019*order + 0.019*wrap + 0.018*soup'), (25, u'0.075*card + 0.034*tempura + 0.029*question + 0.026*fork + 0.024*credit + 0.022*cash + 0.018*knife + 0.016*dan + 0.015*easier + 0.014*ill'), (26, u'0.141*roll + 0.126*sushi + 0.076*fish + 0.060*ramen + 0.033*tuna + 0.028*salmon + 0.024*fresh + 0.018*miso + 0.017*chef + 0.015*spicy'), (27, u'0.033*order + 0.025*people + 0.024*don + 0.024*customer + 0.023*guy + 0.022*employee + 0.020*counter + 0.016*line + 0.016*girl + 0.014*place'), (28, u'0.160*hot + 0.083*dog + 0.071*shake + 0.059*brisket + 0.037*shack + 0.029*pickle + 0.026*chili + 0.024*beef + 0.024*patty + 0.024*chicago'), (29, u'0.076*beer + 0.069*bar + 0.035*drink + 0.033*great + 0.025*happy + 0.023*hour + 0.022*bartender + 0.020*selection + 0.019*game + 0.018*good'), (30, u'0.042*good + 0.033*ordered + 0.031*place + 0.027*didn + 0.023*tasted + 0.022*taste + 0.022*wasn + 0.020*flavor + 0.019*food + 0.015*pretty'), (31, u'0.073*cream + 0.068*ice + 0.057*flavor + 0.044*chocolate + 0.028*sweet + 0.020*strawberry + 0.019*dessert + 0.017*caramel + 0.016*banana + 0.015*cookie'), (32, u'0.092*place + 0.091*love + 0.039*amazing + 0.037*time + 0.032*ve + 0.029*great + 0.024*delicious + 0.023*food + 0.022*favorite + 0.017*good'), (33, u'0.270*pizza + 0.056*topping + 0.049*crust + 0.041*pie + 0.026*slice + 0.024*cheese + 0.021*sauce + 0.018*dough + 0.016*oven + 0.015*good'), (34, u'0.150*cake + 0.047*birthday + 0.038*cupcake + 0.032*pastry + 0.030*bakery + 0.025*smoothy + 0.022*cheesecake + 0.022*croissant + 0.021*az + 0.021*chocolate'), (35, u'0.083*phoenix + 0.057*hotel + 0.051*charlotte + 0.049*california + 0.025*groupon + 0.022*didnt + 0.020*win + 0.019*barbecue + 0.018*san + 0.017*bay'), (36, u'0.149*burger + 0.118*fry + 0.117*sandwich + 0.033*cheese + 0.026*bread + 0.022*turkey + 0.021*onion + 0.019*bun + 0.019*bacon + 0.016*good'), (37, u'0.180*donut + 0.132*la + 0.074*boba + 0.021*philly + 0.017*el + 0.013*greet + 0.012*stumbled + 0.010*flag + 0.009*skeptical + 0.009*cheesesteak'), (38, u'0.064*restaurant + 0.043*food + 0.023*menu + 0.021*family + 0.020*owner + 0.020*chef + 0.013*experience + 0.013*quality + 0.012*feel + 0.011*local'), (39, u'0.135*strip + 0.061*buffet + 0.052*indian + 0.043*mall + 0.022*station + 0.021*2015 + 0.021*naan + 0.019*def + 0.016*send + 0.016*masala'), (40, u'0.032*fractured + 0.021*peach + 0.021*pig + 0.020*patient + 0.017*creation + 0.015*dipped + 0.014*queen + 0.014*whip + 0.013*display + 0.013*soul'), (41, u'0.081*chicken + 0.064*sauce + 0.034*pork + 0.028*bbq + 0.027*good + 0.026*fried + 0.021*flavor + 0.018*side + 0.017*meat + 0.017*spicy'), (42, u'0.157*rib + 0.114*short + 0.019*prime + 0.019*hair + 0.018*king + 0.016*glazed + 0.015*eye + 0.013*steakhouse + 0.012*hooked + 0.012*jack'), (43, u'0.014*menu + 0.013*dish + 0.012*delicious + 0.012*ordered + 0.011*dessert + 0.011*restaurant + 0.011*bread + 0.010*great + 0.009*appetizer + 0.009*dinner'), (44, u'0.118*5 + 0.107*2 + 0.095*star + 0.090*3 + 0.084*4 + 0.070*1 + 0.026*6 + 0.022*give + 0.021*7 + 0.018*10'), (45, u'0.037*review + 0.024*yelp + 0.018*decided + 0.014*wanted + 0.013*owner + 0.011*day + 0.011*read + 0.011*told + 0.011*give + 0.010*business'), (46, u'0.131*portion + 0.083*size + 0.078*large + 0.063*small + 0.034*huge + 0.029*group + 0.027*big + 0.025*generous + 0.021*rare + 0.019*plate'), (47, u'0.115*bowl + 0.091*pho + 0.053*red + 0.036*spring + 0.025*vietnamese + 0.021*hawaiian + 0.021*snow + 0.020*broth + 0.020*velvet + 0.016*boring'), (48, u'0.138*taco + 0.067*burrito + 0.047*salsa + 0.046*chip + 0.046*mexican + 0.031*tortilla + 0.027*chipotle + 0.022*margarita + 0.022*bean + 0.021*carne'), (49, u'0.059*bomb + 0.058*truck + 0.038*arizona + 0.025*kabob + 0.019*mill + 0.017*central + 0.016*history + 0.015*unfortunate + 0.014*diego + 0.013*driver')]\n"
     ]
    }
   ],
   "source": [
    "ida_model_gensim(Yelp_us_food_review_preprocessed,'All_Foods_Topic',50)"
   ]
  }
 ],
 "metadata": {
  "kernelspec": {
   "display_name": "Python 2",
   "language": "python",
   "name": "python2"
  },
  "language_info": {
   "codemirror_mode": {
    "name": "ipython",
    "version": 2
   },
   "file_extension": ".py",
   "mimetype": "text/x-python",
   "name": "python",
   "nbconvert_exporter": "python",
   "pygments_lexer": "ipython2",
   "version": "2.7.11"
  }
 },
 "nbformat": 4,
 "nbformat_minor": 0
}
